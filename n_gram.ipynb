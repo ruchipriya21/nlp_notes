{
 "cells": [
  {
   "cell_type": "code",
   "execution_count": 1,
   "id": "bf1fea69-834e-42e9-b455-125ea04077ba",
   "metadata": {},
   "outputs": [],
   "source": [
    "import spacy"
   ]
  },
  {
   "cell_type": "code",
   "execution_count": 4,
   "id": "e4a4f092-9cd3-4fe7-8f54-b50fe4a637ee",
   "metadata": {},
   "outputs": [
    {
     "data": {
      "text/plain": [
       "{'thor hathodawala': 4,\n",
       " 'hathodawala is': 1,\n",
       " 'is looking': 2,\n",
       " 'looking for': 3,\n",
       " 'for job': 0}"
      ]
     },
     "execution_count": 4,
     "metadata": {},
     "output_type": "execute_result"
    }
   ],
   "source": [
    "from sklearn.feature_extraction.text import CountVectorizer\n",
    "\n",
    "v=CountVectorizer(ngram_range=(2,2))\n",
    "v.fit([\"Thor Hathodawala is looking for a job\"])\n",
    "v.vocabulary_\n"
   ]
  },
  {
   "cell_type": "code",
   "execution_count": 10,
   "id": "a2f58249-f098-4039-b4f7-de8d4dc27e81",
   "metadata": {},
   "outputs": [],
   "source": [
    "corpus={\n",
    "    \"Thor ate piza\",\n",
    "    \"Loki is a tali\",\n",
    "    \"Loki is eating pizza\"\n",
    "}\n"
   ]
  },
  {
   "cell_type": "code",
   "execution_count": 14,
   "id": "cf4b8522-946b-4fb5-878d-11d72ab56549",
   "metadata": {},
   "outputs": [
    {
     "data": {
      "text/plain": [
       "'thor eat piza'"
      ]
     },
     "execution_count": 14,
     "metadata": {},
     "output_type": "execute_result"
    }
   ],
   "source": [
    "import spacy\n",
    "nlp=spacy.load(\"en_core_web_sm\")\n",
    "def preprocess(text):\n",
    "    doc=nlp(text)\n",
    "    filtered_token=[]\n",
    "    for token in doc:\n",
    "        if token.is_stop or token.is_punct:\n",
    "            continue\n",
    "        filtered_token.append(token.lemma_)\n",
    "    return \" \".join(filtered_token)\n",
    "preprocess( \"Thor ate piza\")"
   ]
  },
  {
   "cell_type": "code",
   "execution_count": 15,
   "id": "f6ef75d0-3b77-41c5-8422-058fa8f0360a",
   "metadata": {},
   "outputs": [
    {
     "data": {
      "text/plain": [
       "['thor eat piza', 'Loki eat pizza', 'Loki tali']"
      ]
     },
     "execution_count": 15,
     "metadata": {},
     "output_type": "execute_result"
    }
   ],
   "source": [
    "corpus_preprocess=[preprocess(text) for text in corpus]\n",
    "corpus_preprocess"
   ]
  },
  {
   "cell_type": "code",
   "execution_count": 16,
   "id": "66706b21-a725-43fa-a839-d1bc1a626328",
   "metadata": {},
   "outputs": [
    {
     "data": {
      "text/plain": [
       "{'thor': 9,\n",
       " 'eat': 0,\n",
       " 'piza': 6,\n",
       " 'thor eat': 10,\n",
       " 'eat piza': 1,\n",
       " 'loki': 3,\n",
       " 'pizza': 7,\n",
       " 'loki eat': 4,\n",
       " 'eat pizza': 2,\n",
       " 'tali': 8,\n",
       " 'loki tali': 5}"
      ]
     },
     "execution_count": 16,
     "metadata": {},
     "output_type": "execute_result"
    }
   ],
   "source": [
    "v=CountVectorizer(ngram_range=(1,2))\n",
    "v.fit(corpus_preprocess)\n",
    "v.vocabulary_"
   ]
  },
  {
   "cell_type": "code",
   "execution_count": 18,
   "id": "df931b5d-adb4-4092-8412-762057b67b98",
   "metadata": {},
   "outputs": [
    {
     "data": {
      "text/plain": [
       "array([[1, 0, 1, 0, 0, 0, 0, 1, 0, 1, 1]])"
      ]
     },
     "execution_count": 18,
     "metadata": {},
     "output_type": "execute_result"
    }
   ],
   "source": [
    "v.transform([\"Thor eat pizza\"]).toarray()"
   ]
  }
 ],
 "metadata": {
  "kernelspec": {
   "display_name": "Python 3 (ipykernel)",
   "language": "python",
   "name": "python3"
  },
  "language_info": {
   "codemirror_mode": {
    "name": "ipython",
    "version": 3
   },
   "file_extension": ".py",
   "mimetype": "text/x-python",
   "name": "python",
   "nbconvert_exporter": "python",
   "pygments_lexer": "ipython3",
   "version": "3.11.7"
  }
 },
 "nbformat": 4,
 "nbformat_minor": 5
}
