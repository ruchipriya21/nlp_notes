{
 "cells": [
  {
   "cell_type": "code",
   "execution_count": 22,
   "id": "52db3373-75c6-4427-8ad1-e76075b554b7",
   "metadata": {},
   "outputs": [],
   "source": [
    "import spacy"
   ]
  },
  {
   "cell_type": "code",
   "execution_count": 23,
   "id": "cfb6d64d-927f-4b90-ad5a-e89a329e4cbb",
   "metadata": {},
   "outputs": [
    {
     "name": "stdout",
     "output_type": "stream",
     "text": [
      "Dr.\n",
      "Strange\n",
      "loves\n",
      "pav\n",
      "bhaji\n",
      "of\n",
      "mumbai\n",
      ".\n",
      "Hulk\n",
      "loves\n",
      "chaat\n",
      "of\n",
      "delhi\n"
     ]
    }
   ],
   "source": [
    "nlp=spacy.blank(\"en\")\n",
    "doc=nlp(\"Dr.Strange loves pav bhaji of mumbai. Hulk loves chaat of delhi\")\n",
    "for token in doc:\n",
    "    print (token)"
   ]
  },
  {
   "cell_type": "code",
   "execution_count": 24,
   "id": "81196128-a879-499d-a731-5faf0ee50379",
   "metadata": {},
   "outputs": [
    {
     "data": {
      "text/plain": [
       "Strange"
      ]
     },
     "execution_count": 24,
     "metadata": {},
     "output_type": "execute_result"
    }
   ],
   "source": [
    "\n",
    "doc[1]"
   ]
  },
  {
   "cell_type": "code",
   "execution_count": 25,
   "id": "24bc6e48-3c80-43ff-9ff3-22d49d6e29ad",
   "metadata": {},
   "outputs": [
    {
     "name": "stdout",
     "output_type": "stream",
     "text": [
      " \n",
      "\"\n",
      "let\n",
      "'s\n",
      "go\n",
      "to\n",
      "N.Y.\n",
      "!\n",
      "\"\n"
     ]
    }
   ],
   "source": [
    "doc=nlp(''' \" let's go to N.Y.!\" ''')\n",
    "for token in doc:\n",
    " print (token)"
   ]
  },
  {
   "cell_type": "code",
   "execution_count": 26,
   "id": "e0979f12-19eb-476d-bd88-8119cc3e102c",
   "metadata": {},
   "outputs": [
    {
     "data": {
      "text/plain": [
       "Tony"
      ]
     },
     "execution_count": 26,
     "metadata": {},
     "output_type": "execute_result"
    }
   ],
   "source": [
    "doc=nlp(\"Tony gave two $ to peter\")\n",
    "token_0=doc[0]\n",
    "token_0"
   ]
  },
  {
   "cell_type": "code",
   "execution_count": 6,
   "id": "643f15ae-741c-43d4-9f07-f9f4f03e20f7",
   "metadata": {},
   "outputs": [
    {
     "data": {
      "text/plain": [
       "True"
      ]
     },
     "execution_count": 6,
     "metadata": {},
     "output_type": "execute_result"
    }
   ],
   "source": [
    "token_0.is_alpha"
   ]
  },
  {
   "cell_type": "code",
   "execution_count": 7,
   "id": "95dd1137-5ba3-41da-878c-77c91eae2efd",
   "metadata": {},
   "outputs": [
    {
     "data": {
      "text/plain": [
       "True"
      ]
     },
     "execution_count": 7,
     "metadata": {},
     "output_type": "execute_result"
    }
   ],
   "source": [
    "token_2=doc[2]\n",
    "token_2.like_num"
   ]
  },
  {
   "cell_type": "code",
   "execution_count": 8,
   "id": "a68817c9-d48c-40c2-97bf-df08f86668e0",
   "metadata": {},
   "outputs": [
    {
     "data": {
      "text/plain": [
       "True"
      ]
     },
     "execution_count": 8,
     "metadata": {},
     "output_type": "execute_result"
    }
   ],
   "source": [
    "token_3=doc[3]\n",
    "token_3.is_currency"
   ]
  },
  {
   "cell_type": "code",
   "execution_count": 9,
   "id": "cbe77cea-8714-4306-91d0-9c1b2d2878a6",
   "metadata": {},
   "outputs": [
    {
     "data": {
      "text/plain": [
       "['\\n',\n",
       " 'Dayton high school, 8th grade students information\\n',\n",
       " ' ==================================================\\n',\n",
       " '\\n',\n",
       " '     Name         birth day          email\\n',\n",
       " '    -----        -----------        -------\\n',\n",
       " '    Virat        5 June, 1882      virat@kohli.com\\n',\n",
       " '    Maria        12 April, 2001    maria@sharapova.com\\n',\n",
       " '    Serena       24 June, 1998     serena@williams.com \\n',\n",
       " '    Joe          1 May, 1997       joe@root.com\\n',\n",
       " ' ']"
      ]
     },
     "execution_count": 9,
     "metadata": {},
     "output_type": "execute_result"
    }
   ],
   "source": [
    "with open(\"student_ifo.txt\") as f:\n",
    "    text=f.readlines();\n",
    "text"
   ]
  },
  {
   "cell_type": "code",
   "execution_count": 10,
   "id": "870a729f-82df-4594-b751-bca3604b47ad",
   "metadata": {},
   "outputs": [
    {
     "data": {
      "text/plain": [
       "'\\n Dayton high school, 8th grade students information\\n  ==================================================\\n \\n      Name         birth day          email\\n     -----        -----------        -------\\n     Virat        5 June, 1882      virat@kohli.com\\n     Maria        12 April, 2001    maria@sharapova.com\\n     Serena       24 June, 1998     serena@williams.com \\n     Joe          1 May, 1997       joe@root.com\\n  '"
      ]
     },
     "execution_count": 10,
     "metadata": {},
     "output_type": "execute_result"
    }
   ],
   "source": [
    "text=' '.join(text)\n",
    "text"
   ]
  },
  {
   "cell_type": "code",
   "execution_count": 11,
   "id": "537badb0-ff1a-460f-9477-c6e13c79fb1d",
   "metadata": {},
   "outputs": [
    {
     "data": {
      "text/plain": [
       "['virat@kohli.com',\n",
       " 'maria@sharapova.com',\n",
       " 'serena@williams.com',\n",
       " 'joe@root.com']"
      ]
     },
     "execution_count": 11,
     "metadata": {},
     "output_type": "execute_result"
    }
   ],
   "source": [
    "doc=nlp(text)\n",
    "emails=[]\n",
    "for token in doc:\n",
    "    \n",
    "  if token.like_email:\n",
    "      emails.append(token.text)\n",
    "emails"
   ]
  },
  {
   "cell_type": "code",
   "execution_count": 12,
   "id": "3c1bfb45-1f6b-4eee-8c4e-b91a7dc48c14",
   "metadata": {},
   "outputs": [
    {
     "data": {
      "text/plain": [
       "['gimme', 'double', 'cheese', 'extra', 'large', 'healthy', 'pizza']"
      ]
     },
     "execution_count": 12,
     "metadata": {},
     "output_type": "execute_result"
    }
   ],
   "source": [
    "from spacy.symbols import ORTH\n",
    "\n",
    "nlp = spacy.blank(\"en\")\n",
    "doc = nlp(\"gimme double cheese extra large healthy pizza\")\n",
    "tokens = [token.text for token in doc]\n",
    "tokens"
   ]
  },
  {
   "cell_type": "code",
   "execution_count": 14,
   "id": "8be16c47-afed-45c3-a2e4-1983b86c1533",
   "metadata": {},
   "outputs": [
    {
     "data": {
      "text/plain": [
       "['gim', 'me', 'double', 'cheese', 'extra', 'large', 'healthy', 'pizza']"
      ]
     },
     "execution_count": 14,
     "metadata": {},
     "output_type": "execute_result"
    }
   ],
   "source": [
    "nlp.tokenizer.add_special_case(\"gimme\", [\n",
    "    {ORTH: \"gim\"},\n",
    "    {ORTH: \"me\"},\n",
    "])\n",
    "doc = nlp(\"gimme double cheese extra large healthy pizza\")\n",
    "tokens = [token.text for token in doc]\n",
    "tokens"
   ]
  },
  {
   "cell_type": "code",
   "execution_count": 34,
   "id": "04853037-196d-4cfa-a9c7-1f54a892b85e",
   "metadata": {},
   "outputs": [
    {
     "data": {
      "text/plain": [
       "'Tony gave two $ to Peter, Bruce gave 500 € to Steve'"
      ]
     },
     "execution_count": 34,
     "metadata": {},
     "output_type": "execute_result"
    }
   ],
   "source": [
    "\n",
    "text= \"Tony gave two $ to Peter, Bruce gave 500 € to Steve\"\n",
    "text"
   ]
  },
  {
   "cell_type": "code",
   "execution_count": 40,
   "id": "43071364-887b-4a46-bc63-df579f92b083",
   "metadata": {},
   "outputs": [
    {
     "name": "stdout",
     "output_type": "stream",
     "text": [
      "two $\n",
      "500 €\n"
     ]
    }
   ],
   "source": [
    "nlp=spacy.blank(\"en\")\n",
    "doc=nlp(text)\n",
    "\n",
    "for token in doc:\n",
    "    if(token.like_num and doc[token.i+1].is_currency ):\n",
    "     print (token.text,doc[token.i+1].text)"
   ]
  },
  {
   "cell_type": "code",
   "execution_count": 41,
   "id": "2d0a837f-e7ed-48f5-be1e-b6644fed3133",
   "metadata": {},
   "outputs": [
    {
     "data": {
      "text/plain": [
       "'\\nLook for data to help you address the question. Governments are good\\nsources because data from public research is often freely available. Good\\nplaces to start include http://www.data.gov/, and http://www.science.\\ngov/, and in the United Kingdom, http://data.gov.uk/.\\nTwo of my favorite data sets are the General Social Survey at http://www3.norc.org/gss+website/, \\nand the European Social Survey at http://www.europeansocialsurvey.org/.\\n'"
      ]
     },
     "execution_count": 41,
     "metadata": {},
     "output_type": "execute_result"
    }
   ],
   "source": [
    "text='''\n",
    "Look for data to help you address the question. Governments are good\n",
    "sources because data from public research is often freely available. Good\n",
    "places to start include http://www.data.gov/, and http://www.science.\n",
    "gov/, and in the United Kingdom, http://data.gov.uk/.\n",
    "Two of my favorite data sets are the General Social Survey at http://www3.norc.org/gss+website/, \n",
    "and the European Social Survey at http://www.europeansocialsurvey.org/.\n",
    "'''\n",
    "text\n",
    "\n"
   ]
  },
  {
   "cell_type": "code",
   "execution_count": 46,
   "id": "1f96c34d-d169-4dac-9150-2680ef389beb",
   "metadata": {},
   "outputs": [
    {
     "data": {
      "text/plain": [
       "['http://www.data.gov/',\n",
       " 'http://www.science',\n",
       " 'http://data.gov.uk/.',\n",
       " 'http://www3.norc.org/gss+website/',\n",
       " 'http://www.europeansocialsurvey.org/.']"
      ]
     },
     "execution_count": 46,
     "metadata": {},
     "output_type": "execute_result"
    }
   ],
   "source": [
    "doc=nlp(text)\n",
    "urls=[]\n",
    "for token in doc:\n",
    " if(token.like_url):\n",
    "    urls.append(token.text)\n",
    "urls"
   ]
  },
  {
   "cell_type": "code",
   "execution_count": null,
   "id": "bb154c31-22c8-47d2-a056-d18a27398099",
   "metadata": {},
   "outputs": [],
   "source": []
  }
 ],
 "metadata": {
  "kernelspec": {
   "display_name": "Python 3 (ipykernel)",
   "language": "python",
   "name": "python3"
  },
  "language_info": {
   "codemirror_mode": {
    "name": "ipython",
    "version": 3
   },
   "file_extension": ".py",
   "mimetype": "text/x-python",
   "name": "python",
   "nbconvert_exporter": "python",
   "pygments_lexer": "ipython3",
   "version": "3.11.7"
  }
 },
 "nbformat": 4,
 "nbformat_minor": 5
}
