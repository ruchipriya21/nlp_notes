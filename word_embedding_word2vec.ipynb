{
 "cells": [
  {
   "cell_type": "code",
   "execution_count": 1,
   "id": "41133da9-6550-4501-882a-5785b41bf96f",
   "metadata": {},
   "outputs": [],
   "source": [
    "import spacy\n",
    "nlp=spacy.load(\"en_core_web_lg\")"
   ]
  },
  {
   "cell_type": "code",
   "execution_count": 2,
   "id": "7f15f9f3-9993-4792-9af4-ae22433e1d92",
   "metadata": {},
   "outputs": [],
   "source": [
    "doc=nlp(\"dog cat banana ruchi\")"
   ]
  },
  {
   "cell_type": "code",
   "execution_count": 5,
   "id": "c356c1f4-426f-4327-8c73-4a5e9e0c8c65",
   "metadata": {},
   "outputs": [
    {
     "name": "stdout",
     "output_type": "stream",
     "text": [
      "dog Vector: True OOV: False\n",
      "cat Vector: True OOV: False\n",
      "banana Vector: True OOV: False\n",
      "ruchi Vector: False OOV: True\n"
     ]
    }
   ],
   "source": [
    "for token in doc:\n",
    "  print(token.text, \"Vector:\", token.has_vector, \"OOV:\",token.is_oov)\n",
    "    "
   ]
  },
  {
   "cell_type": "code",
   "execution_count": 6,
   "id": "6aed4b99-f766-408c-b2a8-b2d4c49ec4a9",
   "metadata": {},
   "outputs": [
    {
     "data": {
      "text/plain": [
       "(300,)"
      ]
     },
     "execution_count": 6,
     "metadata": {},
     "output_type": "execute_result"
    }
   ],
   "source": [
    "doc[0].vector.shape"
   ]
  },
  {
   "cell_type": "code",
   "execution_count": 7,
   "id": "e463679b-1655-46f8-8806-0c632db96251",
   "metadata": {},
   "outputs": [
    {
     "data": {
      "text/plain": [
       "(300,)"
      ]
     },
     "execution_count": 7,
     "metadata": {},
     "output_type": "execute_result"
    }
   ],
   "source": [
    "base_token=nlp(\"bread\")\n",
    "base_token[0].vector.shape"
   ]
  },
  {
   "cell_type": "code",
   "execution_count": 9,
   "id": "fb9506fc-1e66-4016-a966-190c0fc90f31",
   "metadata": {},
   "outputs": [
    {
     "name": "stdout",
     "output_type": "stream",
     "text": [
      "sandwich<->bread: 0.6341067417450952\n",
      "burger<->bread: 0.47520687769584247\n",
      "car<->bread: 0.06451532596945217\n",
      "tiger<->bread: 0.04764612079317772\n",
      "human<->bread: 0.2151154210812192\n",
      "wheat<->bread: 0.615036141030184\n"
     ]
    }
   ],
   "source": [
    "doc=nlp(\"sandwich burger car tiger human wheat\")\n",
    "\n",
    "for token in doc:\n",
    "    print(f\"{token.text}<->{base_token.text}:\",token.similarity(base_token))"
   ]
  },
  {
   "cell_type": "code",
   "execution_count": 10,
   "id": "bfc71e75-16fe-4a5b-9a18-197a5c3cdce0",
   "metadata": {},
   "outputs": [],
   "source": [
    "def print_similarity(base_word,words_to_compare):\n",
    "    base_token=nlp(base_word)\n",
    "    doc=nlp(words_to_compare)\n",
    "    for token in doc:\n",
    "        print(f\"{token.text}<-> {base_token.text}:\",token.similarity(base_token))"
   ]
  },
  {
   "cell_type": "code",
   "execution_count": 11,
   "id": "15f64968-e133-44a0-8fcf-e2481f173409",
   "metadata": {},
   "outputs": [
    {
     "name": "stdout",
     "output_type": "stream",
     "text": [
      "apple<-> iphone: 0.4387907401919904\n",
      "samsung<-> iphone: 0.6708590303423401\n",
      "iphone<-> iphone: 0.9999999983096304\n",
      "dog<-> iphone: 0.08211864726684225\n",
      "kitten<-> iphone: 0.10222319084362265\n"
     ]
    }
   ],
   "source": [
    "print_similarity(\"iphone\",\"apple samsung iphone dog kitten\")"
   ]
  },
  {
   "cell_type": "code",
   "execution_count": 12,
   "id": "97fdb12a-f57c-456c-9d33-6e032d312988",
   "metadata": {},
   "outputs": [],
   "source": [
    "king = nlp.vocab[\"king\"].vector\n",
    "man= nlp.vocab[\"man\"].vector\n",
    "woman= nlp.vocab[\"woman\"].vector\n",
    "queen=nlp.vocab[\"queen\"].vector\n",
    "\n",
    "result = king - man + woman"
   ]
  },
  {
   "cell_type": "code",
   "execution_count": 13,
   "id": "e1cd6804-f25c-4fe0-bcb4-3a4faf40f50a",
   "metadata": {},
   "outputs": [],
   "source": [
    "from sklearn.metrics.pairwise import cosine_similarity"
   ]
  },
  {
   "cell_type": "code",
   "execution_count": 14,
   "id": "fb9c57fd-0fd1-4cae-95df-e3a8a66a6fa7",
   "metadata": {},
   "outputs": [
    {
     "data": {
      "text/plain": [
       "array([[0.6178014]], dtype=float32)"
      ]
     },
     "execution_count": 14,
     "metadata": {},
     "output_type": "execute_result"
    }
   ],
   "source": [
    "cosine_similarity([result],[queen])"
   ]
  },
  {
   "cell_type": "code",
   "execution_count": null,
   "id": "0ade6d63-7d3d-48b6-acf7-2edc6c3d1271",
   "metadata": {},
   "outputs": [],
   "source": []
  }
 ],
 "metadata": {
  "kernelspec": {
   "display_name": "Python 3 (ipykernel)",
   "language": "python",
   "name": "python3"
  },
  "language_info": {
   "codemirror_mode": {
    "name": "ipython",
    "version": 3
   },
   "file_extension": ".py",
   "mimetype": "text/x-python",
   "name": "python",
   "nbconvert_exporter": "python",
   "pygments_lexer": "ipython3",
   "version": "3.11.7"
  }
 },
 "nbformat": 4,
 "nbformat_minor": 5
}
